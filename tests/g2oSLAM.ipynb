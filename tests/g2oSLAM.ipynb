{
 "cells": [
  {
   "cell_type": "code",
   "execution_count": 2,
   "metadata": {},
   "outputs": [
    {
     "ename": "ModuleNotFoundError",
     "evalue": "No module named 'gtsam.utils'; 'gtsam' is not a package",
     "output_type": "error",
     "traceback": [
      "\u001b[0;31m---------------------------------------------------------------------------\u001b[0m",
      "\u001b[0;31mModuleNotFoundError\u001b[0m                       Traceback (most recent call last)",
      "Cell \u001b[0;32mIn[2], line 1\u001b[0m\n\u001b[0;32m----> 1\u001b[0m \u001b[38;5;28;01mimport\u001b[39;00m \u001b[38;5;21;01mgtsam\u001b[39;00m\n\u001b[1;32m      2\u001b[0m \u001b[38;5;28;01mfrom\u001b[39;00m \u001b[38;5;21;01mgtsam\u001b[39;00m\u001b[38;5;21;01m.\u001b[39;00m\u001b[38;5;21;01mutils\u001b[39;00m \u001b[38;5;28;01mimport\u001b[39;00m plot\n\u001b[1;32m      3\u001b[0m \u001b[38;5;28;01mimport\u001b[39;00m \u001b[38;5;21;01mmatplotlib\u001b[39;00m\u001b[38;5;21;01m.\u001b[39;00m\u001b[38;5;21;01mpyplot\u001b[39;00m \u001b[38;5;28;01mas\u001b[39;00m \u001b[38;5;21;01mplt\u001b[39;00m\n",
      "File \u001b[0;32m~/Projects/PoseSLAM/tests/gtsam.py:4\u001b[0m\n\u001b[1;32m      1\u001b[0m \u001b[38;5;66;03m### Author: Dhyey Manish Rajani ###\u001b[39;00m\n\u001b[1;32m      3\u001b[0m \u001b[38;5;28;01mimport\u001b[39;00m \u001b[38;5;21;01mgtsam\u001b[39;00m\n\u001b[0;32m----> 4\u001b[0m \u001b[38;5;28;01mfrom\u001b[39;00m \u001b[38;5;21;01mgtsam\u001b[39;00m\u001b[38;5;21;01m.\u001b[39;00m\u001b[38;5;21;01mutils\u001b[39;00m \u001b[38;5;28;01mimport\u001b[39;00m plot\n\u001b[1;32m      5\u001b[0m \u001b[38;5;28;01mimport\u001b[39;00m \u001b[38;5;21;01mmatplotlib\u001b[39;00m\u001b[38;5;21;01m.\u001b[39;00m\u001b[38;5;21;01mpyplot\u001b[39;00m \u001b[38;5;28;01mas\u001b[39;00m \u001b[38;5;21;01mplt\u001b[39;00m\n\u001b[1;32m      6\u001b[0m \u001b[38;5;28;01mimport\u001b[39;00m \u001b[38;5;21;01mnumpy\u001b[39;00m \u001b[38;5;28;01mas\u001b[39;00m \u001b[38;5;21;01mnp\u001b[39;00m\n",
      "\u001b[0;31mModuleNotFoundError\u001b[0m: No module named 'gtsam.utils'; 'gtsam' is not a package"
     ]
    }
   ],
   "source": [
    "import gtsam\n",
    "from gtsam.utils import plot\n",
    "import matplotlib.pyplot as plt\n",
    "import numpy as np\n",
    "from numpy.linalg import inv"
   ]
  },
  {
   "cell_type": "code",
   "execution_count": null,
   "metadata": {},
   "outputs": [],
   "source": [
    "# function to read g20 file manually\n",
    "def read(filename, title1, title2):\n",
    "\n",
    "    vertex = []  # if line starts with 'VERTEX_SE3:QUAT' we append here\n",
    "    edge = []  # if line starts with 'EDGE_SE3:QUAT' we append here\n",
    "    with open(filename) as file:\n",
    "        for line in file:\n",
    "            line = line.split()\n",
    "            \n",
    "            # if line starts with 'VERTEX_SE3:QUAT'....\n",
    "            # [VERTEX_SE3:QUAT i x y z qx qy qz qw] ~ [line[0] line[1]  line[2:]]\n",
    "            if line[0] == title1:\n",
    "                v = int(line[1])\n",
    "                pose = np.array(line[2:], dtype = np.float32)  # from x to qw in a single array called pose\n",
    "                \n",
    "                # combining v and pose into vertex\n",
    "                vertex.append([v, pose])\n",
    "\n",
    "            # if line starts with 'EDGE_SE3:QUAT' ....\n",
    "            # [EDGE_SE3:QUAT i j x y z qx qy qz qw info(x, y, z, qx, qy, qz)] ~ [line[0] line[1]  line[2:]  line[3:10] line[10:]] \n",
    "            elif line[0] == title2:\n",
    "\n",
    "                pose = np.array(line[3:10], dtype= np.float32) # from x to qw\n",
    "                info = np.array(line[10:], dtype=np.float32)  # info(x, y, z, qx, qy, qz)\n",
    "\n",
    "                # combining line[1] = i; line[2] = j ; pose and info into edge\n",
    "                edge.append([int(line[1]), int(line[2]), pose, info])\n",
    "\n",
    "\n",
    "    return vertex, edge\n",
    "\n",
    "\n",
    "\n",
    "(vertex, edge) = read('parking-garage.g2o', title1 = 'VERTEX_SE3:QUAT', title2 = 'EDGE_SE3:QUAT' )\n",
    "\n",
    "print(vertex[0])"
   ]
  },
  {
   "cell_type": "markdown",
   "metadata": {},
   "source": []
  }
 ],
 "metadata": {
  "interpreter": {
   "hash": "916dbcbb3f70747c44a77c7bcd40155683ae19c65e1c03b4aa3499c5328201f1"
  },
  "kernelspec": {
   "display_name": "Python 3.8.10 64-bit",
   "language": "python",
   "name": "python3"
  },
  "language_info": {
   "codemirror_mode": {
    "name": "ipython",
    "version": 3
   },
   "file_extension": ".py",
   "mimetype": "text/x-python",
   "name": "python",
   "nbconvert_exporter": "python",
   "pygments_lexer": "ipython3",
   "version": "3.8.10"
  },
  "orig_nbformat": 4
 },
 "nbformat": 4,
 "nbformat_minor": 2
}
