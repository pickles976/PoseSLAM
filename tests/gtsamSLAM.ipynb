{
 "cells": [
  {
   "cell_type": "code",
   "execution_count": 1,
   "metadata": {},
   "outputs": [
    {
     "ename": "ModuleNotFoundError",
     "evalue": "No module named 'gtsam.utils'; 'gtsam' is not a package",
     "output_type": "error",
     "traceback": [
      "\u001b[0;31m---------------------------------------------------------------------------\u001b[0m",
      "\u001b[0;31mModuleNotFoundError\u001b[0m                       Traceback (most recent call last)",
      "Cell \u001b[0;32mIn[1], line 1\u001b[0m\n\u001b[0;32m----> 1\u001b[0m \u001b[38;5;28;01mimport\u001b[39;00m \u001b[38;5;21;01mgtsam\u001b[39;00m\n\u001b[1;32m      2\u001b[0m \u001b[38;5;28;01mfrom\u001b[39;00m \u001b[38;5;21;01mgtsam\u001b[39;00m\u001b[38;5;21;01m.\u001b[39;00m\u001b[38;5;21;01mutils\u001b[39;00m \u001b[38;5;28;01mimport\u001b[39;00m plot\n\u001b[1;32m      3\u001b[0m \u001b[38;5;28;01mimport\u001b[39;00m \u001b[38;5;21;01mmatplotlib\u001b[39;00m\u001b[38;5;21;01m.\u001b[39;00m\u001b[38;5;21;01mpyplot\u001b[39;00m \u001b[38;5;28;01mas\u001b[39;00m \u001b[38;5;21;01mplt\u001b[39;00m\n",
      "File \u001b[0;32m~/Projects/PoseSLAM/tests/gtsam.py:4\u001b[0m\n\u001b[1;32m      1\u001b[0m \u001b[38;5;66;03m### Author: Dhyey Manish Rajani ###\u001b[39;00m\n\u001b[1;32m      3\u001b[0m \u001b[38;5;28;01mimport\u001b[39;00m \u001b[38;5;21;01mgtsam\u001b[39;00m\n\u001b[0;32m----> 4\u001b[0m \u001b[38;5;28;01mfrom\u001b[39;00m \u001b[38;5;21;01mgtsam\u001b[39;00m\u001b[38;5;21;01m.\u001b[39;00m\u001b[38;5;21;01mutils\u001b[39;00m \u001b[38;5;28;01mimport\u001b[39;00m plot\n\u001b[1;32m      5\u001b[0m \u001b[38;5;28;01mimport\u001b[39;00m \u001b[38;5;21;01mmatplotlib\u001b[39;00m\u001b[38;5;21;01m.\u001b[39;00m\u001b[38;5;21;01mpyplot\u001b[39;00m \u001b[38;5;28;01mas\u001b[39;00m \u001b[38;5;21;01mplt\u001b[39;00m\n\u001b[1;32m      6\u001b[0m \u001b[38;5;28;01mimport\u001b[39;00m \u001b[38;5;21;01mnumpy\u001b[39;00m \u001b[38;5;28;01mas\u001b[39;00m \u001b[38;5;21;01mnp\u001b[39;00m\n",
      "\u001b[0;31mModuleNotFoundError\u001b[0m: No module named 'gtsam.utils'; 'gtsam' is not a package"
     ]
    }
   ],
   "source": [
    "import gtsam\n",
    "from gtsam.utils import plot\n",
    "import matplotlib.pyplot as plt\n",
    "import numpy as np\n",
    "from numpy.linalg import inv"
   ]
  },
  {
   "cell_type": "code",
   "execution_count": 5,
   "metadata": {},
   "outputs": [
    {
     "name": "stdout",
     "output_type": "stream",
     "text": [
      "Optimization complete\n",
      "initial error =  8363.601948120006\n",
      "final error =  0.6341926461148565\n"
     ]
    }
   ],
   "source": [
    "\n",
    "# load an initial graph and reconstructing it(using direct function here)\n",
    "graph, initial = gtsam.readG2o('sphere.g2o', is3D = True)\n",
    "\n",
    "# Defining Prior on the pose having index (key) = 0\n",
    "priorModel = gtsam.noiseModel.Diagonal.Sigmas(np.array([1e-6, 1e-6, 1e-6, 1e-4, 1e-4, 1e-4]))\n",
    "\n",
    "# adding the prior factor to avoid gauge problem \n",
    "graph.add(gtsam.PriorFactorPose3(0, gtsam.Pose3(), priorModel))\n",
    "\n",
    "# Defining params for insering in the optimizer\n",
    "params = gtsam.GaussNewtonParams()   ## the paramters need to be initialized but since \n",
    "                                     ## nothing is mentioned in the question we use the predeined parameters in the python wrapper\n",
    "\n",
    "                                    ## Example of params for regulating optimizer\n",
    "                                    # params.setRelativeErrorTol(-1e+20)\n",
    "                                    # params.setAbsoluteErrorTol(-1e+20)\n",
    "                                    # params.setMaxIterations(10)\n",
    "\n",
    "# Defining Optimizer\n",
    "optimizer = gtsam.GaussNewtonOptimizer(graph, initial, params)\n",
    "\n",
    "# Optimizing\n",
    "result = optimizer.optimize()\n",
    "print(\"Optimization complete\")\n",
    "print(\"initial error = \", graph.error(initial))\n",
    "print(\"final error = \", graph.error(result))\n",
    "\n",
    "\n",
    "# Extracting poses for plotting\n",
    "resultPoses = gtsam.utilities.extractPose3(result)\n",
    "InitialPoses = gtsam.utilities.extractPose3(initial)\n"
   ]
  },
  {
   "cell_type": "code",
   "execution_count": null,
   "metadata": {},
   "outputs": [],
   "source": [
    "# Plotting the initial and results as Unoptimized and Optimized Trajectory respectively\n",
    "ax = plt.axes(projection='3d')\n",
    "ax.plot3D(InitialPoses[:,9], InitialPoses[:,10], InitialPoses[:,11], label=\"Unoptimized Trajectory\")\n",
    "ax.plot3D(resultPoses[:,9], resultPoses[:,10], resultPoses[:,11], label=\"Optimized Trajectory\")\n",
    "ax.set_xlabel(\"x\")\n",
    "ax.set_ylabel(\"y\")\n",
    "ax.set_zlabel(\"z\")\n",
    "plt.legend(loc='upper right')\n",
    "plt.title('Q2.B.')\n",
    "plt.show()"
   ]
  },
  {
   "cell_type": "markdown",
   "metadata": {},
   "source": []
  }
 ],
 "metadata": {
  "interpreter": {
   "hash": "916dbcbb3f70747c44a77c7bcd40155683ae19c65e1c03b4aa3499c5328201f1"
  },
  "kernelspec": {
   "display_name": "Python 3.8.10 64-bit",
   "language": "python",
   "name": "python3"
  },
  "language_info": {
   "codemirror_mode": {
    "name": "ipython",
    "version": 3
   },
   "file_extension": ".py",
   "mimetype": "text/x-python",
   "name": "python",
   "nbconvert_exporter": "python",
   "pygments_lexer": "ipython3",
   "version": "3.8.10"
  },
  "orig_nbformat": 4
 },
 "nbformat": 4,
 "nbformat_minor": 2
}
