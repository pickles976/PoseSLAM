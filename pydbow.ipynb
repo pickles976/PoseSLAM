{
 "cells": [
  {
   "attachments": {},
   "cell_type": "markdown",
   "metadata": {},
   "source": [
    "# https://github.com/goktug97/PyDBoW/blob/master/demo.ipynb"
   ]
  },
  {
   "cell_type": "code",
   "execution_count": null,
   "metadata": {},
   "outputs": [],
   "source": [
    "import glob\n",
    "import random\n",
    "random.seed(123123)\n",
    "    \n",
    "import cv2\n",
    "import numpy as np\n",
    "import dbow\n",
    "\n",
    "from tqdm import tqdm"
   ]
  },
  {
   "cell_type": "code",
   "execution_count": 21,
   "metadata": {},
   "outputs": [
    {
     "name": "stdout",
     "output_type": "stream",
     "text": [
      "['./CUSTOM_sequence/images/img001.jpg', './CUSTOM_sequence/images/img002.jpg', './CUSTOM_sequence/images/img003.jpg', './CUSTOM_sequence/images/img004.jpg', './CUSTOM_sequence/images/img005.jpg', './CUSTOM_sequence/images/img006.jpg', './CUSTOM_sequence/images/img007.jpg', './CUSTOM_sequence/images/img008.jpg', './CUSTOM_sequence/images/img009.jpg', './CUSTOM_sequence/images/img010.jpg', './CUSTOM_sequence/images/img011.jpg', './CUSTOM_sequence/images/img012.jpg', './CUSTOM_sequence/images/img013.jpg', './CUSTOM_sequence/images/img014.jpg', './CUSTOM_sequence/images/img015.jpg', './CUSTOM_sequence/images/img016.jpg', './CUSTOM_sequence/images/img017.jpg', './CUSTOM_sequence/images/img018.jpg', './CUSTOM_sequence/images/img019.jpg', './CUSTOM_sequence/images/img020.jpg', './CUSTOM_sequence/images/img021.jpg', './CUSTOM_sequence/images/img022.jpg', './CUSTOM_sequence/images/img023.jpg', './CUSTOM_sequence/images/img024.jpg', './CUSTOM_sequence/images/img025.jpg', './CUSTOM_sequence/images/img026.jpg', './CUSTOM_sequence/images/img027.jpg', './CUSTOM_sequence/images/img028.jpg', './CUSTOM_sequence/images/img029.jpg', './CUSTOM_sequence/images/img030.jpg', './CUSTOM_sequence/images/img031.jpg', './CUSTOM_sequence/images/img032.jpg', './CUSTOM_sequence/images/img033.jpg', './CUSTOM_sequence/images/img034.jpg', './CUSTOM_sequence/images/img035.jpg', './CUSTOM_sequence/images/img036.jpg', './CUSTOM_sequence/images/img037.jpg', './CUSTOM_sequence/images/img038.jpg', './CUSTOM_sequence/images/img039.jpg', './CUSTOM_sequence/images/img040.jpg', './CUSTOM_sequence/images/img041.jpg', './CUSTOM_sequence/images/img042.jpg', './CUSTOM_sequence/images/img043.jpg', './CUSTOM_sequence/images/img044.jpg', './CUSTOM_sequence/images/img045.jpg', './CUSTOM_sequence/images/img046.jpg', './CUSTOM_sequence/images/img047.jpg', './CUSTOM_sequence/images/img048.jpg', './CUSTOM_sequence/images/img049.jpg', './CUSTOM_sequence/images/img050.jpg', './CUSTOM_sequence/images/img051.jpg', './CUSTOM_sequence/images/img052.jpg', './CUSTOM_sequence/images/img053.jpg', './CUSTOM_sequence/images/img054.jpg', './CUSTOM_sequence/images/img055.jpg', './CUSTOM_sequence/images/img056.jpg', './CUSTOM_sequence/images/img057.jpg', './CUSTOM_sequence/images/img058.jpg', './CUSTOM_sequence/images/img059.jpg', './CUSTOM_sequence/images/img060.jpg', './CUSTOM_sequence/images/img061.jpg', './CUSTOM_sequence/images/img062.jpg', './CUSTOM_sequence/images/img063.jpg', './CUSTOM_sequence/images/img064.jpg', './CUSTOM_sequence/images/img065.jpg', './CUSTOM_sequence/images/img066.jpg', './CUSTOM_sequence/images/img067.jpg', './CUSTOM_sequence/images/img068.jpg', './CUSTOM_sequence/images/img069.jpg', './CUSTOM_sequence/images/img070.jpg', './CUSTOM_sequence/images/img071.jpg', './CUSTOM_sequence/images/img072.jpg', './CUSTOM_sequence/images/img073.jpg', './CUSTOM_sequence/images/img074.jpg', './CUSTOM_sequence/images/img075.jpg', './CUSTOM_sequence/images/img076.jpg', './CUSTOM_sequence/images/img077.jpg', './CUSTOM_sequence/images/img078.jpg', './CUSTOM_sequence/images/img079.jpg', './CUSTOM_sequence/images/img080.jpg', './CUSTOM_sequence/images/img081.jpg', './CUSTOM_sequence/images/img082.jpg', './CUSTOM_sequence/images/img083.jpg', './CUSTOM_sequence/images/img084.jpg', './CUSTOM_sequence/images/img085.jpg', './CUSTOM_sequence/images/img086.jpg', './CUSTOM_sequence/images/img087.jpg', './CUSTOM_sequence/images/img088.jpg', './CUSTOM_sequence/images/img089.jpg', './CUSTOM_sequence/images/img090.jpg', './CUSTOM_sequence/images/img091.jpg', './CUSTOM_sequence/images/img092.jpg', './CUSTOM_sequence/images/img093.jpg', './CUSTOM_sequence/images/img094.jpg', './CUSTOM_sequence/images/img095.jpg', './CUSTOM_sequence/images/img096.jpg', './CUSTOM_sequence/images/img097.jpg', './CUSTOM_sequence/images/img098.jpg', './CUSTOM_sequence/images/img099.jpg', './CUSTOM_sequence/images/img100.jpg', './CUSTOM_sequence/images/img101.jpg', './CUSTOM_sequence/images/img102.jpg', './CUSTOM_sequence/images/img103.jpg', './CUSTOM_sequence/images/img104.jpg', './CUSTOM_sequence/images/img105.jpg', './CUSTOM_sequence/images/img106.jpg', './CUSTOM_sequence/images/img107.jpg', './CUSTOM_sequence/images/img108.jpg', './CUSTOM_sequence/images/img109.jpg', './CUSTOM_sequence/images/img110.jpg', './CUSTOM_sequence/images/img111.jpg', './CUSTOM_sequence/images/img112.jpg', './CUSTOM_sequence/images/img113.jpg', './CUSTOM_sequence/images/img114.jpg', './CUSTOM_sequence/images/img115.jpg', './CUSTOM_sequence/images/img116.jpg', './CUSTOM_sequence/images/img117.jpg', './CUSTOM_sequence/images/img118.jpg', './CUSTOM_sequence/images/img119.jpg', './CUSTOM_sequence/images/img120.jpg', './CUSTOM_sequence/images/img121.jpg', './CUSTOM_sequence/images/img122.jpg', './CUSTOM_sequence/images/img123.jpg', './CUSTOM_sequence/images/img124.jpg', './CUSTOM_sequence/images/img125.jpg', './CUSTOM_sequence/images/img126.jpg', './CUSTOM_sequence/images/img127.jpg', './CUSTOM_sequence/images/img128.jpg', './CUSTOM_sequence/images/img129.jpg', './CUSTOM_sequence/images/img130.jpg', './CUSTOM_sequence/images/img131.jpg', './CUSTOM_sequence/images/img132.jpg', './CUSTOM_sequence/images/img133.jpg', './CUSTOM_sequence/images/img134.jpg', './CUSTOM_sequence/images/img135.jpg', './CUSTOM_sequence/images/img136.jpg', './CUSTOM_sequence/images/img137.jpg', './CUSTOM_sequence/images/img138.jpg', './CUSTOM_sequence/images/img139.jpg', './CUSTOM_sequence/images/img140.jpg', './CUSTOM_sequence/images/img141.jpg', './CUSTOM_sequence/images/img142.jpg', './CUSTOM_sequence/images/img143.jpg', './CUSTOM_sequence/images/img144.jpg', './CUSTOM_sequence/images/img145.jpg', './CUSTOM_sequence/images/img146.jpg', './CUSTOM_sequence/images/img147.jpg', './CUSTOM_sequence/images/img148.jpg', './CUSTOM_sequence/images/img149.jpg', './CUSTOM_sequence/images/img150.jpg', './CUSTOM_sequence/images/img151.jpg', './CUSTOM_sequence/images/img152.jpg', './CUSTOM_sequence/images/img153.jpg', './CUSTOM_sequence/images/img154.jpg', './CUSTOM_sequence/images/img155.jpg', './CUSTOM_sequence/images/img156.jpg', './CUSTOM_sequence/images/img157.jpg', './CUSTOM_sequence/images/img158.jpg', './CUSTOM_sequence/images/img159.jpg', './CUSTOM_sequence/images/img160.jpg', './CUSTOM_sequence/images/img161.jpg', './CUSTOM_sequence/images/img162.jpg', './CUSTOM_sequence/images/img163.jpg', './CUSTOM_sequence/images/img164.jpg', './CUSTOM_sequence/images/img165.jpg', './CUSTOM_sequence/images/img166.jpg', './CUSTOM_sequence/images/img167.jpg', './CUSTOM_sequence/images/img168.jpg', './CUSTOM_sequence/images/img169.jpg', './CUSTOM_sequence/images/img170.jpg', './CUSTOM_sequence/images/img171.jpg', './CUSTOM_sequence/images/img172.jpg', './CUSTOM_sequence/images/img173.jpg', './CUSTOM_sequence/images/img174.jpg', './CUSTOM_sequence/images/img175.jpg', './CUSTOM_sequence/images/img176.jpg', './CUSTOM_sequence/images/img177.jpg', './CUSTOM_sequence/images/img178.jpg', './CUSTOM_sequence/images/img179.jpg', './CUSTOM_sequence/images/img180.jpg', './CUSTOM_sequence/images/img181.jpg', './CUSTOM_sequence/images/img182.jpg', './CUSTOM_sequence/images/img183.jpg', './CUSTOM_sequence/images/img184.jpg', './CUSTOM_sequence/images/img185.jpg', './CUSTOM_sequence/images/img186.jpg', './CUSTOM_sequence/images/img187.jpg', './CUSTOM_sequence/images/img188.jpg', './CUSTOM_sequence/images/img189.jpg', './CUSTOM_sequence/images/img190.jpg', './CUSTOM_sequence/images/img191.jpg', './CUSTOM_sequence/images/img192.jpg', './CUSTOM_sequence/images/img193.jpg', './CUSTOM_sequence/images/img194.jpg', './CUSTOM_sequence/images/img195.jpg', './CUSTOM_sequence/images/img196.jpg', './CUSTOM_sequence/images/img197.jpg', './CUSTOM_sequence/images/img198.jpg', './CUSTOM_sequence/images/img199.jpg', './CUSTOM_sequence/images/img200.jpg', './CUSTOM_sequence/images/img201.jpg', './CUSTOM_sequence/images/img202.jpg', './CUSTOM_sequence/images/img203.jpg', './CUSTOM_sequence/images/img204.jpg', './CUSTOM_sequence/images/img205.jpg', './CUSTOM_sequence/images/img206.jpg', './CUSTOM_sequence/images/img207.jpg', './CUSTOM_sequence/images/img208.jpg', './CUSTOM_sequence/images/img209.jpg', './CUSTOM_sequence/images/img210.jpg', './CUSTOM_sequence/images/img211.jpg', './CUSTOM_sequence/images/img212.jpg', './CUSTOM_sequence/images/img213.jpg', './CUSTOM_sequence/images/img214.jpg', './CUSTOM_sequence/images/img215.jpg', './CUSTOM_sequence/images/img216.jpg', './CUSTOM_sequence/images/img217.jpg', './CUSTOM_sequence/images/img218.jpg', './CUSTOM_sequence/images/img219.jpg', './CUSTOM_sequence/images/img220.jpg', './CUSTOM_sequence/images/img221.jpg', './CUSTOM_sequence/images/img222.jpg', './CUSTOM_sequence/images/img223.jpg', './CUSTOM_sequence/images/img224.jpg', './CUSTOM_sequence/images/img225.jpg', './CUSTOM_sequence/images/img226.jpg', './CUSTOM_sequence/images/img227.jpg', './CUSTOM_sequence/images/img228.jpg', './CUSTOM_sequence/images/img229.jpg', './CUSTOM_sequence/images/img230.jpg', './CUSTOM_sequence/images/img231.jpg', './CUSTOM_sequence/images/img232.jpg', './CUSTOM_sequence/images/img233.jpg', './CUSTOM_sequence/images/img234.jpg', './CUSTOM_sequence/images/img235.jpg', './CUSTOM_sequence/images/img236.jpg', './CUSTOM_sequence/images/img237.jpg', './CUSTOM_sequence/images/img238.jpg', './CUSTOM_sequence/images/img239.jpg', './CUSTOM_sequence/images/img240.jpg', './CUSTOM_sequence/images/img241.jpg', './CUSTOM_sequence/images/img242.jpg', './CUSTOM_sequence/images/img243.jpg', './CUSTOM_sequence/images/img244.jpg', './CUSTOM_sequence/images/img245.jpg', './CUSTOM_sequence/images/img246.jpg', './CUSTOM_sequence/images/img247.jpg', './CUSTOM_sequence/images/img248.jpg', './CUSTOM_sequence/images/img249.jpg', './CUSTOM_sequence/images/img250.jpg', './CUSTOM_sequence/images/img251.jpg', './CUSTOM_sequence/images/img252.jpg', './CUSTOM_sequence/images/img253.jpg', './CUSTOM_sequence/images/img254.jpg', './CUSTOM_sequence/images/img255.jpg', './CUSTOM_sequence/images/img256.jpg', './CUSTOM_sequence/images/img257.jpg', './CUSTOM_sequence/images/img258.jpg', './CUSTOM_sequence/images/img259.jpg', './CUSTOM_sequence/images/img260.jpg', './CUSTOM_sequence/images/img261.jpg', './CUSTOM_sequence/images/img262.jpg', './CUSTOM_sequence/images/img263.jpg', './CUSTOM_sequence/images/img264.jpg', './CUSTOM_sequence/images/img265.jpg', './CUSTOM_sequence/images/img266.jpg', './CUSTOM_sequence/images/img267.jpg', './CUSTOM_sequence/images/img268.jpg', './CUSTOM_sequence/images/img269.jpg', './CUSTOM_sequence/images/img270.jpg', './CUSTOM_sequence/images/img271.jpg', './CUSTOM_sequence/images/img272.jpg', './CUSTOM_sequence/images/img273.jpg', './CUSTOM_sequence/images/img274.jpg', './CUSTOM_sequence/images/img275.jpg', './CUSTOM_sequence/images/img276.jpg', './CUSTOM_sequence/images/img277.jpg', './CUSTOM_sequence/images/img278.jpg', './CUSTOM_sequence/images/img279.jpg', './CUSTOM_sequence/images/img280.jpg', './CUSTOM_sequence/images/img281.jpg', './CUSTOM_sequence/images/img282.jpg', './CUSTOM_sequence/images/img283.jpg', './CUSTOM_sequence/images/img284.jpg', './CUSTOM_sequence/images/img285.jpg', './CUSTOM_sequence/images/img286.jpg', './CUSTOM_sequence/images/img287.jpg', './CUSTOM_sequence/images/img288.jpg', './CUSTOM_sequence/images/img289.jpg', './CUSTOM_sequence/images/img290.jpg', './CUSTOM_sequence/images/img291.jpg', './CUSTOM_sequence/images/img292.jpg', './CUSTOM_sequence/images/img293.jpg', './CUSTOM_sequence/images/img294.jpg', './CUSTOM_sequence/images/img295.jpg', './CUSTOM_sequence/images/img296.jpg', './CUSTOM_sequence/images/img297.jpg', './CUSTOM_sequence/images/img298.jpg', './CUSTOM_sequence/images/img299.jpg', './CUSTOM_sequence/images/img300.jpg', './CUSTOM_sequence/images/img301.jpg', './CUSTOM_sequence/images/img302.jpg', './CUSTOM_sequence/images/img303.jpg', './CUSTOM_sequence/images/img304.jpg', './CUSTOM_sequence/images/img305.jpg', './CUSTOM_sequence/images/img306.jpg', './CUSTOM_sequence/images/img307.jpg', './CUSTOM_sequence/images/img308.jpg', './CUSTOM_sequence/images/img309.jpg', './CUSTOM_sequence/images/img310.jpg', './CUSTOM_sequence/images/img311.jpg', './CUSTOM_sequence/images/img312.jpg', './CUSTOM_sequence/images/img313.jpg', './CUSTOM_sequence/images/img314.jpg', './CUSTOM_sequence/images/img315.jpg', './CUSTOM_sequence/images/img316.jpg', './CUSTOM_sequence/images/img317.jpg', './CUSTOM_sequence/images/img318.jpg', './CUSTOM_sequence/images/img319.jpg', './CUSTOM_sequence/images/img320.jpg', './CUSTOM_sequence/images/img321.jpg']\n",
      "Num images: 33\n"
     ]
    }
   ],
   "source": [
    "# Load Images\n",
    "images_path = glob.glob('./00/images/*.png')\n",
    "images = []\n",
    "for i, image_path in enumerate(images_path):\n",
    "    if i % 10 == 0:\n",
    "        images.append(cv2.imread(image_path))\n",
    "\n",
    "print(f\"Num images: {len(images)}\")"
   ]
  },
  {
   "cell_type": "code",
   "execution_count": 22,
   "metadata": {},
   "outputs": [
    {
     "ename": "KeyboardInterrupt",
     "evalue": "",
     "output_type": "error",
     "traceback": [
      "\u001b[0;31m---------------------------------------------------------------------------\u001b[0m",
      "\u001b[0;31mKeyboardInterrupt\u001b[0m                         Traceback (most recent call last)",
      "\u001b[0;32m/tmp/ipykernel_19291/2849563855.py\u001b[0m in \u001b[0;36m<module>\u001b[0;34m\u001b[0m\n\u001b[1;32m      2\u001b[0m \u001b[0mn_clusters\u001b[0m \u001b[0;34m=\u001b[0m \u001b[0;36m150\u001b[0m\u001b[0;34m\u001b[0m\u001b[0;34m\u001b[0m\u001b[0m\n\u001b[1;32m      3\u001b[0m \u001b[0mdepth\u001b[0m \u001b[0;34m=\u001b[0m \u001b[0;36m5\u001b[0m\u001b[0;34m\u001b[0m\u001b[0;34m\u001b[0m\u001b[0m\n\u001b[0;32m----> 4\u001b[0;31m \u001b[0mvocabulary\u001b[0m \u001b[0;34m=\u001b[0m \u001b[0mdbow\u001b[0m\u001b[0;34m.\u001b[0m\u001b[0mVocabulary\u001b[0m\u001b[0;34m(\u001b[0m\u001b[0mimages\u001b[0m\u001b[0;34m,\u001b[0m \u001b[0mn_clusters\u001b[0m\u001b[0;34m,\u001b[0m \u001b[0mdepth\u001b[0m\u001b[0;34m)\u001b[0m\u001b[0;34m\u001b[0m\u001b[0;34m\u001b[0m\u001b[0m\n\u001b[0m\u001b[1;32m      5\u001b[0m \u001b[0;34m\u001b[0m\u001b[0m\n\u001b[1;32m      6\u001b[0m \u001b[0morb\u001b[0m \u001b[0;34m=\u001b[0m \u001b[0mcv2\u001b[0m\u001b[0;34m.\u001b[0m\u001b[0mORB_create\u001b[0m\u001b[0;34m(\u001b[0m\u001b[0;34m)\u001b[0m\u001b[0;34m\u001b[0m\u001b[0;34m\u001b[0m\u001b[0m\n",
      "\u001b[0;32m/opt/conda/lib/python3.9/site-packages/dbow/dbow.py\u001b[0m in \u001b[0;36m__init__\u001b[0;34m(self, images, n_clusters, depth)\u001b[0m\n\u001b[1;32m     54\u001b[0m         \u001b[0mdescriptors\u001b[0m \u001b[0;34m=\u001b[0m \u001b[0mnp\u001b[0m\u001b[0;34m.\u001b[0m\u001b[0marray\u001b[0m\u001b[0;34m(\u001b[0m\u001b[0mdescriptors\u001b[0m\u001b[0;34m)\u001b[0m\u001b[0;34m\u001b[0m\u001b[0;34m\u001b[0m\u001b[0m\n\u001b[1;32m     55\u001b[0m         \u001b[0mself\u001b[0m\u001b[0;34m.\u001b[0m\u001b[0mroot_node\u001b[0m \u001b[0;34m=\u001b[0m \u001b[0mNode\u001b[0m\u001b[0;34m(\u001b[0m\u001b[0mdescriptors\u001b[0m\u001b[0;34m)\u001b[0m\u001b[0;34m\u001b[0m\u001b[0;34m\u001b[0m\u001b[0m\n\u001b[0;32m---> 56\u001b[0;31m         \u001b[0mwords\u001b[0m \u001b[0;34m=\u001b[0m \u001b[0minitialize_tree\u001b[0m\u001b[0;34m(\u001b[0m\u001b[0mself\u001b[0m\u001b[0;34m.\u001b[0m\u001b[0mroot_node\u001b[0m\u001b[0;34m,\u001b[0m \u001b[0mn_clusters\u001b[0m\u001b[0;34m,\u001b[0m \u001b[0mdepth\u001b[0m\u001b[0;34m)\u001b[0m\u001b[0;34m\u001b[0m\u001b[0;34m\u001b[0m\u001b[0m\n\u001b[0m\u001b[1;32m     57\u001b[0m         \u001b[0mself\u001b[0m\u001b[0;34m.\u001b[0m\u001b[0mwords\u001b[0m \u001b[0;34m=\u001b[0m \u001b[0;34m[\u001b[0m\u001b[0mWord\u001b[0m\u001b[0;34m.\u001b[0m\u001b[0mfrom_node\u001b[0m\u001b[0;34m(\u001b[0m\u001b[0mnode\u001b[0m\u001b[0;34m)\u001b[0m \u001b[0;32mfor\u001b[0m \u001b[0mnode\u001b[0m \u001b[0;32min\u001b[0m \u001b[0mwords\u001b[0m\u001b[0;34m]\u001b[0m\u001b[0;34m\u001b[0m\u001b[0;34m\u001b[0m\u001b[0m\n\u001b[1;32m     58\u001b[0m         \u001b[0;32mfor\u001b[0m \u001b[0mword\u001b[0m \u001b[0;32min\u001b[0m \u001b[0mself\u001b[0m\u001b[0;34m.\u001b[0m\u001b[0mwords\u001b[0m\u001b[0;34m:\u001b[0m\u001b[0;34m\u001b[0m\u001b[0;34m\u001b[0m\u001b[0m\n",
      "\u001b[0;32m/opt/conda/lib/python3.9/site-packages/dbow/dbow.py\u001b[0m in \u001b[0;36minitialize_tree\u001b[0;34m(root, n_clusters, tree_depth)\u001b[0m\n\u001b[1;32m    235\u001b[0m                 \u001b[0m_initialize_tree\u001b[0m\u001b[0;34m(\u001b[0m\u001b[0mchild_node\u001b[0m\u001b[0;34m,\u001b[0m \u001b[0mdepth\u001b[0m \u001b[0;34m+\u001b[0m \u001b[0;36m1\u001b[0m\u001b[0;34m)\u001b[0m\u001b[0;34m\u001b[0m\u001b[0;34m\u001b[0m\u001b[0m\n\u001b[1;32m    236\u001b[0m \u001b[0;34m\u001b[0m\u001b[0m\n\u001b[0;32m--> 237\u001b[0;31m     \u001b[0m_initialize_tree\u001b[0m\u001b[0;34m(\u001b[0m\u001b[0mroot\u001b[0m\u001b[0;34m)\u001b[0m\u001b[0;34m\u001b[0m\u001b[0;34m\u001b[0m\u001b[0m\n\u001b[0m\u001b[1;32m    238\u001b[0m     \u001b[0;32mreturn\u001b[0m \u001b[0mwords\u001b[0m\u001b[0;34m\u001b[0m\u001b[0;34m\u001b[0m\u001b[0m\n",
      "\u001b[0;32m/opt/conda/lib/python3.9/site-packages/dbow/dbow.py\u001b[0m in \u001b[0;36m_initialize_tree\u001b[0;34m(node, depth)\u001b[0m\n\u001b[1;32m    229\u001b[0m                 \u001b[0m_initialize_tree\u001b[0m\u001b[0;34m(\u001b[0m\u001b[0mchild_node\u001b[0m\u001b[0;34m,\u001b[0m \u001b[0mdepth\u001b[0m \u001b[0;34m+\u001b[0m \u001b[0;36m1\u001b[0m\u001b[0;34m)\u001b[0m\u001b[0;34m\u001b[0m\u001b[0;34m\u001b[0m\u001b[0m\n\u001b[1;32m    230\u001b[0m         \u001b[0;32melse\u001b[0m\u001b[0;34m:\u001b[0m\u001b[0;34m\u001b[0m\u001b[0;34m\u001b[0m\u001b[0m\n\u001b[0;32m--> 231\u001b[0;31m             \u001b[0mgroups\u001b[0m \u001b[0;34m=\u001b[0m \u001b[0mbinary_kmeans\u001b[0m\u001b[0;34m(\u001b[0m\u001b[0mnode\u001b[0m\u001b[0;34m.\u001b[0m\u001b[0mdescriptors\u001b[0m\u001b[0;34m,\u001b[0m \u001b[0mn_clusters\u001b[0m\u001b[0;34m)\u001b[0m\u001b[0;34m\u001b[0m\u001b[0;34m\u001b[0m\u001b[0m\n\u001b[0m\u001b[1;32m    232\u001b[0m             \u001b[0;32mfor\u001b[0m \u001b[0mgroup\u001b[0m \u001b[0;32min\u001b[0m \u001b[0mgroups\u001b[0m\u001b[0;34m:\u001b[0m\u001b[0;34m\u001b[0m\u001b[0;34m\u001b[0m\u001b[0m\n\u001b[1;32m    233\u001b[0m                 \u001b[0mchild_node\u001b[0m \u001b[0;34m=\u001b[0m \u001b[0mNode\u001b[0m\u001b[0;34m(\u001b[0m\u001b[0mnode\u001b[0m\u001b[0;34m.\u001b[0m\u001b[0mdescriptors\u001b[0m\u001b[0;34m[\u001b[0m\u001b[0mgroup\u001b[0m\u001b[0;34m]\u001b[0m\u001b[0;34m)\u001b[0m\u001b[0;34m\u001b[0m\u001b[0;34m\u001b[0m\u001b[0m\n",
      "\u001b[0;32m/opt/conda/lib/python3.9/site-packages/dbow/dbow.py\u001b[0m in \u001b[0;36mbinary_kmeans\u001b[0;34m(descriptors, k)\u001b[0m\n\u001b[1;32m    197\u001b[0m             \u001b[0mbest_cluster\u001b[0m \u001b[0;34m=\u001b[0m \u001b[0;36m0\u001b[0m\u001b[0;34m\u001b[0m\u001b[0;34m\u001b[0m\u001b[0m\n\u001b[1;32m    198\u001b[0m             \u001b[0;32mfor\u001b[0m \u001b[0mcidx\u001b[0m \u001b[0;32min\u001b[0m \u001b[0mrange\u001b[0m\u001b[0;34m(\u001b[0m\u001b[0;36m1\u001b[0m\u001b[0;34m,\u001b[0m \u001b[0mlen\u001b[0m\u001b[0;34m(\u001b[0m\u001b[0mclusters\u001b[0m\u001b[0;34m)\u001b[0m\u001b[0;34m)\u001b[0m\u001b[0;34m:\u001b[0m\u001b[0;34m\u001b[0m\u001b[0;34m\u001b[0m\u001b[0m\n\u001b[0;32m--> 199\u001b[0;31m                 \u001b[0mdistance\u001b[0m \u001b[0;34m=\u001b[0m \u001b[0mdescriptor\u001b[0m\u001b[0;34m.\u001b[0m\u001b[0mdistance\u001b[0m\u001b[0;34m(\u001b[0m\u001b[0mclusters\u001b[0m\u001b[0;34m[\u001b[0m\u001b[0mcidx\u001b[0m\u001b[0;34m]\u001b[0m\u001b[0;34m)\u001b[0m\u001b[0;34m\u001b[0m\u001b[0;34m\u001b[0m\u001b[0m\n\u001b[0m\u001b[1;32m    200\u001b[0m                 \u001b[0;32mif\u001b[0m \u001b[0mdistance\u001b[0m \u001b[0;34m<\u001b[0m \u001b[0mmin_dist\u001b[0m\u001b[0;34m:\u001b[0m\u001b[0;34m\u001b[0m\u001b[0;34m\u001b[0m\u001b[0m\n\u001b[1;32m    201\u001b[0m                     \u001b[0mmin_dist\u001b[0m \u001b[0;34m=\u001b[0m \u001b[0mdistance\u001b[0m\u001b[0;34m\u001b[0m\u001b[0;34m\u001b[0m\u001b[0m\n",
      "\u001b[0;32m/opt/conda/lib/python3.9/site-packages/dbow/orb_descriptor.py\u001b[0m in \u001b[0;36mdistance\u001b[0;34m(self, other)\u001b[0m\n\u001b[1;32m     11\u001b[0m     \u001b[0;32mdef\u001b[0m \u001b[0mdistance\u001b[0m\u001b[0;34m(\u001b[0m\u001b[0mself\u001b[0m\u001b[0;34m,\u001b[0m \u001b[0mother\u001b[0m\u001b[0;34m)\u001b[0m\u001b[0;34m:\u001b[0m\u001b[0;34m\u001b[0m\u001b[0;34m\u001b[0m\u001b[0m\n\u001b[1;32m     12\u001b[0m         \u001b[0;34m\"\"\"Calculate hamming distance between two descriptors.\"\"\"\u001b[0m\u001b[0;34m\u001b[0m\u001b[0;34m\u001b[0m\u001b[0m\n\u001b[0;32m---> 13\u001b[0;31m         \u001b[0;32mreturn\u001b[0m \u001b[0mint\u001b[0m\u001b[0;34m(\u001b[0m\u001b[0mnp\u001b[0m\u001b[0;34m.\u001b[0m\u001b[0msum\u001b[0m\u001b[0;34m(\u001b[0m\u001b[0mnp\u001b[0m\u001b[0;34m.\u001b[0m\u001b[0mlogical_xor\u001b[0m\u001b[0;34m(\u001b[0m\u001b[0mself\u001b[0m\u001b[0;34m,\u001b[0m \u001b[0mother\u001b[0m\u001b[0;34m)\u001b[0m\u001b[0;34m)\u001b[0m\u001b[0;34m)\u001b[0m\u001b[0;34m\u001b[0m\u001b[0;34m\u001b[0m\u001b[0m\n\u001b[0m\u001b[1;32m     14\u001b[0m \u001b[0;34m\u001b[0m\u001b[0m\n\u001b[1;32m     15\u001b[0m     \u001b[0;34m@\u001b[0m\u001b[0mclassmethod\u001b[0m\u001b[0;34m\u001b[0m\u001b[0;34m\u001b[0m\u001b[0m\n",
      "\u001b[0;32m/opt/conda/lib/python3.9/site-packages/dbow/orb_descriptor.py\u001b[0m in \u001b[0;36mlogical_xor\u001b[0;34m(self, other)\u001b[0m\n\u001b[1;32m     31\u001b[0m         \u001b[0;32mreturn\u001b[0m \u001b[0mself\u001b[0m\u001b[0;34m.\u001b[0m\u001b[0m__add__\u001b[0m\u001b[0;34m(\u001b[0m\u001b[0mother\u001b[0m\u001b[0;34m)\u001b[0m\u001b[0;34m\u001b[0m\u001b[0;34m\u001b[0m\u001b[0m\n\u001b[1;32m     32\u001b[0m \u001b[0;34m\u001b[0m\u001b[0m\n\u001b[0;32m---> 33\u001b[0;31m     \u001b[0;32mdef\u001b[0m \u001b[0mlogical_xor\u001b[0m\u001b[0;34m(\u001b[0m\u001b[0mself\u001b[0m\u001b[0;34m,\u001b[0m \u001b[0mother\u001b[0m\u001b[0;34m)\u001b[0m\u001b[0;34m:\u001b[0m\u001b[0;34m\u001b[0m\u001b[0;34m\u001b[0m\u001b[0m\n\u001b[0m\u001b[1;32m     34\u001b[0m         \u001b[0;32mreturn\u001b[0m \u001b[0mnp\u001b[0m\u001b[0;34m.\u001b[0m\u001b[0mlogical_xor\u001b[0m\u001b[0;34m(\u001b[0m\u001b[0mself\u001b[0m\u001b[0;34m.\u001b[0m\u001b[0mfeatures\u001b[0m\u001b[0;34m,\u001b[0m \u001b[0mother\u001b[0m\u001b[0;34m.\u001b[0m\u001b[0mfeatures\u001b[0m\u001b[0;34m)\u001b[0m\u001b[0;34m\u001b[0m\u001b[0;34m\u001b[0m\u001b[0m\n\u001b[1;32m     35\u001b[0m \u001b[0;34m\u001b[0m\u001b[0m\n",
      "\u001b[0;31mKeyboardInterrupt\u001b[0m: "
     ]
    }
   ],
   "source": [
    "# Create Vocabulary\n",
    "n_clusters = 150\n",
    "depth = 5\n",
    "vocabulary = dbow.Vocabulary(images, n_clusters, depth)\n",
    "\n",
    "orb = cv2.ORB_create()\n",
    "\n",
    "# Convert images to Bag of Binary Words and calculate scores between them\n",
    "bows = []\n",
    "for image in tqdm(images):\n",
    "    kps, descs = orb.detectAndCompute(image, None)\n",
    "    descs = [dbow.ORB.from_cv_descriptor(desc) for desc in descs]\n",
    "    bows.append(vocabulary.descs_to_bow(descs))\n",
    "\n",
    "for i in range(len(bows)):\n",
    "    for j in range(len(bows)):\n",
    "        print(f'Similarity between Image {i} and Image {j} = {bows[i].score(bows[j])}')\n",
    "    print('\\n')"
   ]
  },
  {
   "cell_type": "code",
   "execution_count": 13,
   "metadata": {},
   "outputs": [],
   "source": [
    "# Create a database\n",
    "db = dbow.Database(vocabulary)\n",
    "for image in images:\n",
    "    kps, descs = orb.detectAndCompute(image, None)\n",
    "    descs = [dbow.ORB.from_cv_descriptor(desc) for desc in descs]\n",
    "    db.add(descs)"
   ]
  },
  {
   "cell_type": "code",
   "execution_count": 14,
   "metadata": {},
   "outputs": [],
   "source": [
    "# Query the database\n",
    "for image in images:\n",
    "    kps, descs = orb.detectAndCompute(image, None)\n",
    "    descs = [dbow.ORB.from_cv_descriptor(desc) for desc in descs]\n",
    "    scores = db.query(descs)\n",
    "    match_bow = db[np.argmax(scores)]\n",
    "    match_desc = db.descriptors[np.argmax(scores)]"
   ]
  },
  {
   "cell_type": "code",
   "execution_count": 15,
   "metadata": {},
   "outputs": [],
   "source": [
    "# Saving and Loading the vocabulary\n",
    "vocabulary.save('vocabulary.pickle')\n",
    "loaded_vocabulary = vocabulary.load('vocabulary.pickle')\n",
    "for image in images:\n",
    "    kps, descs = orb.detectAndCompute(image, None)\n",
    "    descs = [dbow.ORB.from_cv_descriptor(desc) for desc in descs]\n",
    "    loaded_vocabulary.descs_to_bow(descs)"
   ]
  },
  {
   "cell_type": "code",
   "execution_count": 16,
   "metadata": {},
   "outputs": [
    {
     "name": "stdout",
     "output_type": "stream",
     "text": [
      "<dbow.dbow.BoW object at 0x7fe4fc1437f0> 0\n",
      "<dbow.dbow.BoW object at 0x7fe4fc143880> 1\n",
      "<dbow.dbow.BoW object at 0x7fe4fc143910> 2\n",
      "<dbow.dbow.BoW object at 0x7fe4fc1439a0> 3\n",
      "<dbow.dbow.BoW object at 0x7fe4fc143a30> 4\n",
      "<dbow.dbow.BoW object at 0x7fe4fc143ac0> 5\n",
      "<dbow.dbow.BoW object at 0x7fe4fc143b50> 6\n",
      "<dbow.dbow.BoW object at 0x7fe4fc143be0> 7\n",
      "<dbow.dbow.BoW object at 0x7fe4fc143c70> 8\n",
      "<dbow.dbow.BoW object at 0x7fe4fc143d00> 9\n"
     ]
    }
   ],
   "source": [
    "# Saving and Loading the database\n",
    "db.save('database.pickle')\n",
    "loaded_db = db.load('database.pickle')\n",
    "for image in images:\n",
    "    kps, descs = orb.detectAndCompute(image, None)\n",
    "    descs = [dbow.ORB.from_cv_descriptor(desc) for desc in descs]\n",
    "    scores = loaded_db.query(descs)\n",
    "    print(loaded_db[np.argmax(scores)], np.argmax(scores))"
   ]
  },
  {
   "cell_type": "code",
   "execution_count": 18,
   "metadata": {},
   "outputs": [
    {
     "name": "stdout",
     "output_type": "stream",
     "text": [
      "Similarity between Image 0 and Image 0 = 1.0\n",
      "Similarity between Image 0 and Image 1 = 0.7702340479300382\n",
      "Similarity between Image 0 and Image 2 = 0.7432178309609714\n",
      "Similarity between Image 0 and Image 3 = 0.7202660128756637\n",
      "Similarity between Image 0 and Image 4 = 0.7303352953667878\n",
      "Similarity between Image 0 and Image 5 = 0.7719542941724579\n",
      "Similarity between Image 0 and Image 6 = 0.7261176152797393\n",
      "Similarity between Image 0 and Image 7 = 0.7180688715477668\n",
      "Similarity between Image 0 and Image 8 = 0.707949508629197\n",
      "Similarity between Image 0 and Image 9 = 0.6806439212735287\n",
      "\n",
      "\n",
      "Similarity between Image 1 and Image 0 = 0.7702340479300382\n",
      "Similarity between Image 1 and Image 1 = 1.0\n",
      "Similarity between Image 1 and Image 2 = 0.7182747167141588\n",
      "Similarity between Image 1 and Image 3 = 0.6685227082494489\n",
      "Similarity between Image 1 and Image 4 = 0.7332933073401942\n",
      "Similarity between Image 1 and Image 5 = 0.7127264357723332\n",
      "Similarity between Image 1 and Image 6 = 0.7260456801012887\n",
      "Similarity between Image 1 and Image 7 = 0.712239261978644\n",
      "Similarity between Image 1 and Image 8 = 0.7105840558178463\n",
      "Similarity between Image 1 and Image 9 = 0.6455577500301444\n",
      "\n",
      "\n",
      "Similarity between Image 2 and Image 0 = 0.7432178309609714\n",
      "Similarity between Image 2 and Image 1 = 0.7182747167141588\n",
      "Similarity between Image 2 and Image 2 = 1.0\n",
      "Similarity between Image 2 and Image 3 = 0.775308672191491\n",
      "Similarity between Image 2 and Image 4 = 0.7422230876211995\n",
      "Similarity between Image 2 and Image 5 = 0.7485782541817916\n",
      "Similarity between Image 2 and Image 6 = 0.7276684082806155\n",
      "Similarity between Image 2 and Image 7 = 0.7853850858131132\n",
      "Similarity between Image 2 and Image 8 = 0.7609726199265121\n",
      "Similarity between Image 2 and Image 9 = 0.7453365791287596\n",
      "\n",
      "\n",
      "Similarity between Image 3 and Image 0 = 0.7202660128756637\n",
      "Similarity between Image 3 and Image 1 = 0.6685227082494489\n",
      "Similarity between Image 3 and Image 2 = 0.775308672191491\n",
      "Similarity between Image 3 and Image 3 = 1.0\n",
      "Similarity between Image 3 and Image 4 = 0.7307806747614447\n",
      "Similarity between Image 3 and Image 5 = 0.7166888589903275\n",
      "Similarity between Image 3 and Image 6 = 0.7392218547925111\n",
      "Similarity between Image 3 and Image 7 = 0.7895974061339938\n",
      "Similarity between Image 3 and Image 8 = 0.7148592296536763\n",
      "Similarity between Image 3 and Image 9 = 0.7035357561331316\n",
      "\n",
      "\n",
      "Similarity between Image 4 and Image 0 = 0.7303352953667878\n",
      "Similarity between Image 4 and Image 1 = 0.7332933073401942\n",
      "Similarity between Image 4 and Image 2 = 0.7422230876211995\n",
      "Similarity between Image 4 and Image 3 = 0.7307806747614447\n",
      "Similarity between Image 4 and Image 4 = 1.0\n",
      "Similarity between Image 4 and Image 5 = 0.7623147549549988\n",
      "Similarity between Image 4 and Image 6 = 0.7612240776637976\n",
      "Similarity between Image 4 and Image 7 = 0.750079861814325\n",
      "Similarity between Image 4 and Image 8 = 0.7004453218173173\n",
      "Similarity between Image 4 and Image 9 = 0.7129253088824208\n",
      "\n",
      "\n",
      "Similarity between Image 5 and Image 0 = 0.7719542941724579\n",
      "Similarity between Image 5 and Image 1 = 0.7127264357723332\n",
      "Similarity between Image 5 and Image 2 = 0.7485782541817916\n",
      "Similarity between Image 5 and Image 3 = 0.7166888589903275\n",
      "Similarity between Image 5 and Image 4 = 0.7623147549549988\n",
      "Similarity between Image 5 and Image 5 = 1.0\n",
      "Similarity between Image 5 and Image 6 = 0.7470128924858568\n",
      "Similarity between Image 5 and Image 7 = 0.7327251851910608\n",
      "Similarity between Image 5 and Image 8 = 0.6649110084025575\n",
      "Similarity between Image 5 and Image 9 = 0.6478965752086903\n",
      "\n",
      "\n",
      "Similarity between Image 6 and Image 0 = 0.7261176152797393\n",
      "Similarity between Image 6 and Image 1 = 0.7260456801012887\n",
      "Similarity between Image 6 and Image 2 = 0.7276684082806155\n",
      "Similarity between Image 6 and Image 3 = 0.7392218547925111\n",
      "Similarity between Image 6 and Image 4 = 0.7612240776637976\n",
      "Similarity between Image 6 and Image 5 = 0.7470128924858568\n",
      "Similarity between Image 6 and Image 6 = 1.0\n",
      "Similarity between Image 6 and Image 7 = 0.7669928781913566\n",
      "Similarity between Image 6 and Image 8 = 0.6977907238498223\n",
      "Similarity between Image 6 and Image 9 = 0.6249880201194105\n",
      "\n",
      "\n",
      "Similarity between Image 7 and Image 0 = 0.7180688715477668\n",
      "Similarity between Image 7 and Image 1 = 0.712239261978644\n",
      "Similarity between Image 7 and Image 2 = 0.7853850858131132\n",
      "Similarity between Image 7 and Image 3 = 0.7895974061339938\n",
      "Similarity between Image 7 and Image 4 = 0.750079861814325\n",
      "Similarity between Image 7 and Image 5 = 0.7327251851910608\n",
      "Similarity between Image 7 and Image 6 = 0.7669928781913566\n",
      "Similarity between Image 7 and Image 7 = 1.0\n",
      "Similarity between Image 7 and Image 8 = 0.7233845014886913\n",
      "Similarity between Image 7 and Image 9 = 0.7032479995423379\n",
      "\n",
      "\n",
      "Similarity between Image 8 and Image 0 = 0.707949508629197\n",
      "Similarity between Image 8 and Image 1 = 0.7105840558178463\n",
      "Similarity between Image 8 and Image 2 = 0.7609726199265121\n",
      "Similarity between Image 8 and Image 3 = 0.7148592296536763\n",
      "Similarity between Image 8 and Image 4 = 0.7004453218173173\n",
      "Similarity between Image 8 and Image 5 = 0.6649110084025575\n",
      "Similarity between Image 8 and Image 6 = 0.6977907238498223\n",
      "Similarity between Image 8 and Image 7 = 0.7233845014886913\n",
      "Similarity between Image 8 and Image 8 = 1.0\n",
      "Similarity between Image 8 and Image 9 = 0.695332599330781\n",
      "\n",
      "\n",
      "Similarity between Image 9 and Image 0 = 0.6806439212735287\n",
      "Similarity between Image 9 and Image 1 = 0.6455577500301444\n",
      "Similarity between Image 9 and Image 2 = 0.7453365791287596\n",
      "Similarity between Image 9 and Image 3 = 0.7035357561331316\n",
      "Similarity between Image 9 and Image 4 = 0.7129253088824208\n",
      "Similarity between Image 9 and Image 5 = 0.6478965752086903\n",
      "Similarity between Image 9 and Image 6 = 0.6249880201194105\n",
      "Similarity between Image 9 and Image 7 = 0.7032479995423379\n",
      "Similarity between Image 9 and Image 8 = 0.695332599330781\n",
      "Similarity between Image 9 and Image 9 = 1.0\n",
      "\n",
      "\n"
     ]
    }
   ],
   "source": [
    "for i in range(len(bows)):\n",
    "    for j in range(len(bows)):\n",
    "        print(f'Similarity between Image {i} and Image {j} = {bows[i].score(bows[j])}')\n",
    "    print('\\n')"
   ]
  }
 ],
 "metadata": {
  "kernelspec": {
   "display_name": "base",
   "language": "python",
   "name": "python3"
  },
  "language_info": {
   "codemirror_mode": {
    "name": "ipython",
    "version": 3
   },
   "file_extension": ".py",
   "mimetype": "text/x-python",
   "name": "python",
   "nbconvert_exporter": "python",
   "pygments_lexer": "ipython3",
   "version": "3.9.13"
  },
  "orig_nbformat": 4
 },
 "nbformat": 4,
 "nbformat_minor": 2
}
